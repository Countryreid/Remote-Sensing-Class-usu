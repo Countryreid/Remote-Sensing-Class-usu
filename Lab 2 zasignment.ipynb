{
 "cells": [
  {
   "cell_type": "markdown",
   "id": "d189cb7e-884f-42a7-b50d-abd96dc002f7",
   "metadata": {},
   "source": [
    "# Lab 2 assignment"
   ]
  },
  {
   "cell_type": "markdown",
   "id": "2c9ae66e-21ab-45f0-8ab6-e815990742b1",
   "metadata": {},
   "source": [
    "\n",
    "-lookup the longitude and latitude of Logan City\n",
    "\n",
    "-ask Dr. Torres if we need to chang ethe previous notbook to Logan or just do the new ones?\n"
   ]
  },
  {
   "cell_type": "code",
   "execution_count": 1,
   "id": "9df71b0d-c076-47c4-b582-f0f44aabde1f",
   "metadata": {},
   "outputs": [
    {
     "data": {
      "application/vnd.jupyter.widget-view+json": {
       "model_id": "cc6f3383ec454b728ae9cc7e1c95c18b",
       "version_major": 2,
       "version_minor": 0
      },
      "text/plain": [
       "Map(center=[41.73698, -111.833839], controls=(WidgetControl(options=['position', 'transparent_bg'], widget=HBo…"
      ]
     },
     "execution_count": 1,
     "metadata": {},
     "output_type": "execute_result"
    }
   ],
   "source": [
    "import ee\n",
    "ee.Initialize()\n",
    "\n",
    "import geemap\n",
    "\n",
    "# Logans latitude and longitude\n",
    "latitude = 41.736980\n",
    "longitude = -111.833839\n",
    "\n",
    "Logan = ee.Geometry.Point([longitude, latitude]);\n",
    "\n",
    "Map = geemap.Map(center=(latitude, longitude), zoom=8)\n",
    "Map"
   ]
  },
  {
   "cell_type": "markdown",
   "id": "b27e66b8-b46b-4c8c-8ee0-6c695d013229",
   "metadata": {},
   "source": [
    "## -Aster\n",
    "collected from 2019 april to october\n"
   ]
  },
  {
   "cell_type": "code",
   "execution_count": 2,
   "id": "e0d0b073-6483-460e-af62-92f91ac938ff",
   "metadata": {},
   "outputs": [
    {
     "name": "stdout",
     "output_type": "stream",
     "text": [
      "['B01', 'B02', 'B3N', 'B04', 'B05', 'B06', 'B07', 'B08', 'B09', 'B10', 'B11', 'B12', 'B13', 'B14']\n"
     ]
    }
   ],
   "source": [
    "aster_logan = ee.ImageCollection(\"ASTER/AST_L1T_003\")\n",
    "\n",
    "\n",
    "aster_logan_image = ee.Image(aster_logan.filterBounds(Logan).filterDate(\"2019-04-01\", \"2019-10-30\").first());\n",
    "aster_image_bandnames = aster_logan_image.bandNames()\n",
    "print(aster_image_bandnames.getInfo())"
   ]
  },
  {
   "cell_type": "code",
   "execution_count": 3,
   "id": "ca657137-4cac-421f-84fd-c29630043f59",
   "metadata": {},
   "outputs": [
    {
     "data": {
      "application/vnd.jupyter.widget-view+json": {
       "model_id": "d6da1cc971184d49864c5111d180e0c2",
       "version_major": 2,
       "version_minor": 0
      },
      "text/plain": [
       "Map(center=[41.73698, -111.833839], controls=(WidgetControl(options=['position', 'transparent_bg'], widget=HBo…"
      ]
     },
     "execution_count": 3,
     "metadata": {},
     "output_type": "execute_result"
    }
   ],
   "source": [
    "asterFalseBands=['B3N', 'B02', 'B01']; #does not have a blue band so it is red edge, red, green\n",
    "\n",
    "asterMap = geemap.Map(center=(latitude, longitude), zoom=10) # centers the map on logan and zooms in on the valley only for the aster map\n",
    "asterMap.addLayer(aster_logan_image, {'bands':asterFalseBands, 'min' : 1, 'max' :255}, name= 'Aster Logan Image')\n",
    "\n",
    "asterMap"
   ]
  },
  {
   "cell_type": "markdown",
   "id": "57cb3bbe-78e8-4491-8448-87b6ee0627b9",
   "metadata": {},
   "source": [
    "## -Sentinel-2\n",
    "-selected from same window as aster around 2019 from april to october"
   ]
  },
  {
   "cell_type": "code",
   "execution_count": 4,
   "id": "a80de1ce-e89c-4de7-b82f-9727f9f8275e",
   "metadata": {},
   "outputs": [
    {
     "name": "stdout",
     "output_type": "stream",
     "text": [
      "['B1', 'B2', 'B3', 'B4', 'B5', 'B6', 'B7', 'B8', 'B8A', 'B9', 'B10', 'B11', 'B12', 'QA10', 'QA20', 'QA60']\n"
     ]
    }
   ],
   "source": [
    "sentinel2Collection = ee.ImageCollection(\"COPERNICUS/S2\") \n",
    "\n",
    "sentinel2Image = ee.Image(sentinel2Collection.filterBounds(Logan).filterDate(\"2019-04-01\", \"2019-10-30\").sort('CLOUD_COVERAGE_ASSESSMENT').first());\n",
    "sentinel2Image = sentinel2Image.multiply(0.0001)\n",
    "sentinel2ImageBands = sentinel2Image.bandNames()\n",
    "print(sentinel2ImageBands.getInfo())"
   ]
  },
  {
   "cell_type": "code",
   "execution_count": 5,
   "id": "1c5cb3ed-ba9d-4523-a894-3898f58d8267",
   "metadata": {},
   "outputs": [
    {
     "data": {
      "application/vnd.jupyter.widget-view+json": {
       "model_id": "30806a912baf4f778b1bd77a447ca300",
       "version_major": 2,
       "version_minor": 0
      },
      "text/plain": [
       "Map(center=[41.73698, -111.833839], controls=(WidgetControl(options=['position', 'transparent_bg'], widget=HBo…"
      ]
     },
     "execution_count": 5,
     "metadata": {},
     "output_type": "execute_result"
    }
   ],
   "source": [
    "sentinel2NaturalBands = ['B4', 'B3', 'B2']\n",
    "sentinel2Map = geemap.Map(center=(latitude, longitude), zoom=10)\n",
    "sentinel2Map.addLayer(sentinel2Image, {'bands' :sentinel2NaturalBands, 'min' : 0, 'max' : 0.4}, name = 'Sentinel 2 Natural Image')\n",
    "\n",
    "sentinel2Map"
   ]
  },
  {
   "cell_type": "markdown",
   "id": "4877af74-2b23-400b-bb06-7eedeab1e6d7",
   "metadata": {},
   "source": [
    "## Sentinel-3\n",
    "selected from 2019 from April to October\n",
    "**Talk to Torres about the frequncies**\n",
    "\n",
    "can we get natural colors out of a map like this\n",
    "\n",
    "how do we best look for images without clouds?"
   ]
  },
  {
   "cell_type": "code",
   "execution_count": 6,
   "id": "fa8369d4-80f7-433c-b9f1-1020a8f1973b",
   "metadata": {},
   "outputs": [
    {
     "name": "stdout",
     "output_type": "stream",
     "text": [
      "['Oa01_radiance', 'Oa02_radiance', 'Oa03_radiance', 'Oa04_radiance', 'Oa05_radiance', 'Oa06_radiance', 'Oa07_radiance', 'Oa08_radiance', 'Oa09_radiance', 'Oa10_radiance', 'Oa11_radiance', 'Oa12_radiance', 'Oa13_radiance', 'Oa14_radiance', 'Oa15_radiance', 'Oa16_radiance', 'Oa17_radiance', 'Oa18_radiance', 'Oa19_radiance', 'Oa20_radiance', 'Oa21_radiance', 'quality_flags']\n"
     ]
    }
   ],
   "source": [
    "sentinel3Collection = ee.ImageCollection(\"c\")\n",
    "\n",
    "sentinel3Image = ee.Image(sentinel3Collection.filterBounds(Logan).filterDate(\"2019-04-01\", \"2019-10-30\").first());\n",
    "sentinel3Image = sentinel3Image.multiply(0.0139465)\n",
    "\n",
    "print(sentinel3Image.bandNames().getInfo())"
   ]
  },
  {
   "cell_type": "code",
   "execution_count": 7,
   "id": "3516bfb9-a6e2-4cac-9ac0-0fee1842500d",
   "metadata": {},
   "outputs": [
    {
     "data": {
      "application/vnd.jupyter.widget-view+json": {
       "model_id": "fbced2e015404149b34da1d6364278a6",
       "version_major": 2,
       "version_minor": 0
      },
      "text/plain": [
       "Map(center=[41.73698, -111.833839], controls=(WidgetControl(options=['position', 'transparent_bg'], widget=HBo…"
      ]
     },
     "execution_count": 7,
     "metadata": {},
     "output_type": "execute_result"
    }
   ],
   "source": [
    "sentinel3NaturalBands = ['Oa09_radiance','Oa06_radiance','Oa03_radiance']\n",
    "\n",
    "sentinel3Map = geemap.Map(center=(latitude, longitude), zoom=10)\n",
    "sentinel3Map.addLayer(sentinel3Image, {'bands' :sentinel3NaturalBands, 'min' : 0, 'max' : 2}, name = 'Sentinel 3 Natural Image')\n",
    "\n",
    "sentinel3Map\n"
   ]
  },
  {
   "cell_type": "markdown",
   "id": "c8bbcf0c-427c-43c6-b0b7-5c7b240953de",
   "metadata": {},
   "source": [
    "## PROBA-V\n",
    " taken from the 2019 growing season\n"
   ]
  },
  {
   "cell_type": "code",
   "execution_count": 8,
   "id": "bfec2127-6c8b-45c2-9f04-2d8e1d39bbd0",
   "metadata": {},
   "outputs": [
    {
     "name": "stdout",
     "output_type": "stream",
     "text": [
      "['RED', 'NIR', 'BLUE', 'SWIR', 'NDVI', 'SZA', 'SAA', 'SWIRVAA', 'SWIRVZA', 'VNIRVAA', 'VNIRVZA', 'SM', 'TIME']\n"
     ]
    }
   ],
   "source": [
    "probavCollection = ee.ImageCollection(\"VITO/PROBAV/C1/S1_TOC_100M\")\n",
    "\n",
    "probavImage = ee.Image(probavCollection.filterBounds(Logan).filterDate(\"2019-04-01\", \"2019-10-30\").sort(\"CLOUD_COVER_PERCENTAGE\").first());\n",
    "\n",
    "print(probavImage.bandNames().getInfo())\n"
   ]
  },
  {
   "cell_type": "code",
   "execution_count": 9,
   "id": "0ca7f982-c573-4e51-9f1c-e135abc9bd34",
   "metadata": {},
   "outputs": [
    {
     "data": {
      "application/vnd.jupyter.widget-view+json": {
       "model_id": "4aadc38ce23749cea26a8e1539da7205",
       "version_major": 2,
       "version_minor": 0
      },
      "text/plain": [
       "Map(center=[41.73698, -111.833839], controls=(WidgetControl(options=['position', 'transparent_bg'], widget=HBo…"
      ]
     },
     "execution_count": 9,
     "metadata": {},
     "output_type": "execute_result"
    }
   ],
   "source": [
    "probavFalseColorBands = ['NIR', 'RED', 'BLUE']\n",
    "\n",
    "probavMap = geemap.Map(center=(latitude, longitude), zoom=10)\n",
    "\n",
    "probavMap.addLayer(probavImage, {'bands' : probavFalseColorBands, 'min' :0, 'max' : 1000}, name = 'Proba V False Color Image')\n",
    "                   \n",
    "probavMap"
   ]
  },
  {
   "cell_type": "markdown",
   "id": "475b408e-c1ee-4a4b-b17f-ab576fcfc157",
   "metadata": {},
   "source": [
    "## VIIRS\n",
    "    \n",
    "    Taken from 2019 april to october, first image with limited cloud cover if possible. "
   ]
  },
  {
   "cell_type": "code",
   "execution_count": 10,
   "id": "5995a084-5ec1-4b15-8142-85ef817c31b1",
   "metadata": {},
   "outputs": [
    {
     "name": "stdout",
     "output_type": "stream",
     "text": [
      "['I1', 'I2', 'I3', 'M1', 'M2', 'M3', 'M4', 'M5', 'M7', 'M8', 'M10', 'M11', 'SensorAzimuth', 'SensorZenith', 'SolarAzimuth', 'SolarZenith', 'iobs_res', 'num_observations_1km', 'num_observations_500m', 'obscov_1km', 'obscov_500m', 'orbit_pnt', 'QF1', 'QF2', 'QF3', 'QF4', 'QF5', 'QF6', 'QF7']\n"
     ]
    }
   ],
   "source": [
    "viirsImage = ee.ImageCollection(\"NOAA/VIIRS/001/VNP09GA\").filterBounds(Logan).filterDate(\"2019-04-01\", \"2019-10-30\").first()\n",
    "\n",
    "viirsImage = viirsImage.multiply(0.0001)\n",
    "\n",
    "print(viirsImage.bandNames().getInfo())"
   ]
  },
  {
   "cell_type": "code",
   "execution_count": 34,
   "id": "553f11b0-b02f-4b64-bb3e-332df19e883a",
   "metadata": {},
   "outputs": [
    {
     "data": {
      "application/vnd.jupyter.widget-view+json": {
       "model_id": "02e9bbfc519e45cf94c2d16d27ea6af0",
       "version_major": 2,
       "version_minor": 0
      },
      "text/plain": [
       "Map(center=[41.73698, -111.833839], controls=(WidgetControl(options=['position', 'transparent_bg'], widget=HBo…"
      ]
     },
     "execution_count": 34,
     "metadata": {},
     "output_type": "execute_result"
    }
   ],
   "source": [
    "viirsNaturalBands =['M5','M4','M3']\n",
    "\n",
    "viirsNaturalMap = geemap.Map(center=(latitude, longitude), zoom=10)\n",
    "viirsNaturalMap.addLayer(viirsImage, {'bands' : viirsNaturalBands, 'min' :0, 'max' : 1}, name = 'VIIRS Natural-ish Image')\n",
    "\n",
    "#viirsNaturalMap.addLayer(probavImage, {'bands' : probavFalseColorBands, 'min' :0, 'max' : 1000}, name = 'Proba V False Color Image')\n",
    "                   \n",
    "viirsNaturalMap"
   ]
  },
  {
   "cell_type": "markdown",
   "id": "069fca47-e17e-465e-ad74-700529a276f2",
   "metadata": {},
   "source": [
    "## Hypersectral Sensor EO\n",
    " "
   ]
  },
  {
   "cell_type": "code",
   "execution_count": 11,
   "id": "07e62d74-a47c-445c-9f9a-a9d1486fded3",
   "metadata": {},
   "outputs": [
    {
     "name": "stdout",
     "output_type": "stream",
     "text": [
      "['B008', 'B009', 'B010', 'B011', 'B012', 'B013', 'B014', 'B015', 'B016', 'B017', 'B018', 'B019', 'B020', 'B021', 'B022', 'B023', 'B024', 'B025', 'B026', 'B027', 'B028', 'B029', 'B030', 'B031', 'B032', 'B033', 'B034', 'B035', 'B036', 'B037', 'B038', 'B039', 'B040', 'B041', 'B042', 'B043', 'B044', 'B045', 'B046', 'B047', 'B048', 'B049', 'B050', 'B051', 'B052', 'B053', 'B054', 'B055', 'B056', 'B057', 'B077', 'B078', 'B079', 'B080', 'B081', 'B082', 'B083', 'B084', 'B085', 'B086', 'B087', 'B088', 'B089', 'B090', 'B091', 'B092', 'B093', 'B094', 'B095', 'B096', 'B097', 'B098', 'B099', 'B100', 'B101', 'B102', 'B103', 'B104', 'B105', 'B106', 'B107', 'B108', 'B109', 'B110', 'B111', 'B112', 'B113', 'B114', 'B115', 'B116', 'B117', 'B118', 'B119', 'B120', 'B121', 'B122', 'B123', 'B124', 'B125', 'B126', 'B127', 'B128', 'B129', 'B130', 'B131', 'B132', 'B133', 'B134', 'B135', 'B136', 'B137', 'B138', 'B139', 'B140', 'B141', 'B142', 'B143', 'B144', 'B145', 'B146', 'B147', 'B148', 'B149', 'B150', 'B151', 'B152', 'B153', 'B154', 'B155', 'B156', 'B157', 'B158', 'B159', 'B160', 'B161', 'B162', 'B163', 'B164', 'B165', 'B166', 'B167', 'B168', 'B169', 'B170', 'B171', 'B172', 'B173', 'B174', 'B175', 'B176', 'B177', 'B178', 'B179', 'B180', 'B181', 'B182', 'B183', 'B184', 'B185', 'B186', 'B187', 'B188', 'B189', 'B190', 'B191', 'B192', 'B193', 'B194', 'B195', 'B196', 'B197', 'B198', 'B199', 'B200', 'B201', 'B202', 'B203', 'B204', 'B205', 'B206', 'B207', 'B208', 'B209', 'B210', 'B211', 'B212', 'B213', 'B214', 'B215', 'B216', 'B217', 'B218', 'B219', 'B220', 'B221', 'B222', 'B223', 'B224']\n"
     ]
    }
   ],
   "source": [
    "EO1Image = ee.ImageCollection(\"EO1/HYPERION\").filterBounds(Logan).filterDate('2001-01-01', '2017-12-30').first()\n",
    "\n",
    "print(EO1Image.bandNames().getInfo())"
   ]
  },
  {
   "cell_type": "code",
   "execution_count": 36,
   "id": "2c43c3b7-1d09-4ed8-bf25-37976077d36a",
   "metadata": {},
   "outputs": [
    {
     "data": {
      "application/vnd.jupyter.widget-view+json": {
       "model_id": "aa7277ca70194f2dbab1ec35f3a8c8fc",
       "version_major": 2,
       "version_minor": 0
      },
      "text/plain": [
       "Map(center=[41.73698, -111.833839], controls=(WidgetControl(options=['position', 'transparent_bg'], widget=HBo…"
      ]
     },
     "execution_count": 36,
     "metadata": {},
     "output_type": "execute_result"
    }
   ],
   "source": [
    "EO1NaturalBands = ['B043', 'B030', 'B020']\n",
    "\n",
    "EO1NaturalMap = geemap.Map(center = (latitude, longitude), zoom = 10)\n",
    "EO1NaturalMap.addLayer(EO1Image, {'bands' : EO1NaturalBands, 'min' : 0, 'max' : 4720}, name = 'EO1 Image')\n",
    "                       \n",
    "EO1NaturalMap"
   ]
  },
  {
   "cell_type": "markdown",
   "id": "95d5fd0d-4123-49da-981c-dd9858cb166e",
   "metadata": {},
   "source": [
    "## Assignment\n",
    "1. What are the necessary changes to this notebook, to perform the same steps for Cache Valley? Produce a notebook.\n",
    "\n",
    "2. There are more satellites and data sources available to you. To your Logan notebook add the following satellites completing the same steps we did for each of the imagery sources in this notebook.\n",
    "\n",
    "The imagery sources to add are:\n",
    "\n",
    "ASTER: ee.ImageCollection(\"ASTER/AST_L1T_003\"), hint: request 2019 april to october season\n",
    "https://developers.google.com/earth-engine/datasets/catalog/ASTER_AST_L1T_003\n",
    "\n",
    "Sentinel-2: ee.ImageCollection('COPERNICUS/S2')\n",
    "https://developers.google.com/earth-engine/datasets/catalog/COPERNICUS_S2\n",
    "\n",
    "Sentinel-3: ee.ImageCollection(\"COPERNICUS/S3/OLCI\") hint: this satellite behaves like MODIS\n",
    "https://developers.google.com/earth-engine/datasets/catalog/COPERNICUS_S3_OLCI\n",
    "\n",
    "PROBA-V: ee.ImageCollection(\"VITO/PROBAV/C1/S1_TOC_100M\") hint: request 2019 gorwing season\n",
    "https://developers.google.com/earth-engine/datasets/catalog/VITO_PROBAV_C1_S1_TOC_100M\n",
    "\n",
    "VIIRS: ee.ImageCollection(\"NOAA/VIIRS/001/VNP09GA\") hint: this satellite behaves like MODIS\n",
    "https://developers.google.com/earth-engine/datasets/catalog/NOAA_VIIRS_001_VNP09GA\n",
    "\n",
    "BONUS: HYPERSPECTRAL SENSOR\n",
    "EO-1 Hyperion Hyperspectral Imager: ee.ImageCollection(\"EO1/HYPERION\") \n",
    "hint: this satellite has 220 bands, choose between 2001 and 2017 to get an image for Cache Valley\n",
    "https://developers.google.com/earth-engine/datasets/catalog/EO1_HYPERION\n",
    "\n",
    "\n",
    "Happy coding!"
   ]
  }
 ],
 "metadata": {
  "kernelspec": {
   "display_name": "Python 3 (ipykernel)",
   "language": "python",
   "name": "python3"
  },
  "language_info": {
   "codemirror_mode": {
    "name": "ipython",
    "version": 3
   },
   "file_extension": ".py",
   "mimetype": "text/x-python",
   "name": "python",
   "nbconvert_exporter": "python",
   "pygments_lexer": "ipython3",
   "version": "3.9.7"
  }
 },
 "nbformat": 4,
 "nbformat_minor": 5
}
